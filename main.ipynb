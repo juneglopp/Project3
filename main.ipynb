{
 "cells": [
  {
   "cell_type": "markdown",
   "id": "565945cf",
   "metadata": {},
   "source": [
    "# Topic 1"
   ]
  },
  {
   "cell_type": "markdown",
   "id": "9ca107cb",
   "metadata": {},
   "source": [
    "## Task 0"
   ]
  },
  {
   "cell_type": "markdown",
   "id": "b4b667c1",
   "metadata": {},
   "source": [
    "INFO: Siden oppgaven vil vi skal holde samme måleenheter bruker jeg 1 Å = 0,1 nm = 1e-10 m"
   ]
  },
  {
   "cell_type": "code",
   "execution_count": null,
   "id": "ba0b1e03",
   "metadata": {},
   "outputs": [
    {
     "name": "stdout",
     "output_type": "stream",
     "text": [
      "Simulation box (nm)\n",
      "Unit: 1 Å = 0.1 nm\n",
      "\n",
      "Padding box (nm):\n",
      " x: [-5.018, -2.877]   size = 2.141 nm\n",
      " y: [-1.980, 0.457]   size = 2.438 nm\n",
      " z: [-1.199, 1.190]   size = 2.389 nm\n",
      "\n",
      "Senter (nm): (-3.948, -0.761, -0.005)\n"
     ]
    }
   ],
   "source": [
    "\"\"\"\n",
    "Define the simulation box (x, y, z) in 3D and choose units\n",
    "Read the file dna_coords.txt (format: SYM x y z in Ångstrøm)\n",
    "Create a 3D box around the DNA with a small padding equal \n",
    "to the larger of 10% of the molecule’s size or 2 Å on each side\n",
    "Convert all values to nanometers (nm) and print the final box dimensions.\n",
    "Unit: 1 Å = 0.1 nm\n",
    "\"\"\"\n",
    "\n",
    "import numpy as np\n",
    "import matplotlib.pyplot as plt\n",
    "\n",
    "angstrom_to_nm = 0.1\n",
    "\n",
    "path = \"dna_coords.txt\"  \n",
    "points_angstrom = np.loadtxt(path, usecols=(1,2,3))  # (N,3)\n",
    "\n",
    "# Min, max, span pr aksis (Å) \n",
    "min_angstrom = points_angstrom.min(axis=0)\n",
    "max_angstrom = points_angstrom.max(axis=0)\n",
    "span_angstrom = max_angstrom - min_angstrom\n",
    "\n",
    "# Padding per aksis (Å): 10% of span, atleast 2 Å \n",
    "padding_angstrom = np.maximum(span_angstrom * 0.10, 2.0)\n",
    "\n",
    "# Boxlimit in Å\n",
    "box_min_angstrom = min_angstrom - padding_angstrom\n",
    "box_max_angstrom = max_angstrom + padding_angstrom\n",
    "\n",
    "# Konverting boxlimit to nm ---\n",
    "box_min_nm = box_min_angstrom * angstrom_to_nm\n",
    "box_max_nm = box_max_angstrom * angstrom_to_nm\n",
    "size_nm = box_max_nm - box_min_nm\n",
    "center_nm = (box_min_nm + box_max_nm) / 2\n",
    "\n",
    "# Print (bruker tre desimaler i alle oppgaver)!!!\n",
    "def f(x):\n",
    "    return f\"{x:.3f}\"\n",
    "\n",
    "axes = [\"x\", \"y\", \"z\"]\n",
    "\n",
    "\n",
    "print(\"Simulation box (nm)\")\n",
    "print(\"Unit: 1 Å = 0.1 nm\\n\")\n",
    "\n",
    "print(\"Padding box (nm):\")\n",
    "for i, a in enumerate(axes):\n",
    "    print(f\" {a}: [{f(box_min_nm[i])}, {f(box_max_nm[i])}]   size = {f(size_nm[i])} nm\")\n",
    "\n",
    "print(f\"\\nSenter (nm): ({f(center_nm[0])}, {f(center_nm[1])}, {f(center_nm[2])})\")\n",
    "\n",
    "# #(Do we need to se the numbers in Å?) \n",
    "# for i, a in enumerate(axes):\n",
    "#      size_A = box_max_angstrom[i] - box_min_angstrom[i]\n",
    "#      print(f\"Å {a}: [{f(box_min_angstrom[i])}, {f(box_max_angstrom[i])}]  size = {f(size_A)} Å (pad={f(padding_angstrom[i])} Å)\")\n",
    "\n",
    "# 3D-plot som sjekk ---\n",
    "# points_nm = points_angstrom * angstrom_to_nm\n",
    "\n",
    "# fig = plt.figure(figsize=(5,4))\n",
    "# ax = fig.add_subplot(111, projection=\"3d\")\n",
    "# ax.scatter(points_nm[:,0], points_nm[:,1], points_nm[:,2], s=2)\n",
    "\n",
    "# # tegn 12 kanter av boksen\n",
    "# xm0, xm1 = box_min_nm[0], box_max_nm[0]\n",
    "# ym0, ym1 = box_min_nm[1], box_max_nm[1]\n",
    "# zm0, zm1 = box_min_nm[2], box_max_nm[2]\n",
    "# edges = [\n",
    "#     ([xm0,xm1],[ym0,ym0],[zm0,zm0]),\n",
    "#     ([xm0,xm1],[ym1,ym1],[zm0,zm0]),\n",
    "#     ([xm0,xm1],[ym0,ym0],[zm1,zm1]),\n",
    "#     ([xm0,xm1],[ym1,ym1],[zm1,zm1]),\n",
    "#     ([xm0,xm0],[ym0,ym1],[zm0,zm0]),\n",
    "#     ([xm1,xm1],[ym0,ym1],[zm0,zm0]),\n",
    "#     ([xm0,xm0],[ym0,ym1],[zm1,zm1]),\n",
    "#     ([xm1,xm1],[ym0,ym1],[zm1,zm1]),\n",
    "#     ([xm0,xm0],[ym0,ym0],[zm0,zm1]),\n",
    "#     ([xm1,xm1],[ym0,ym0],[zm0,zm1]),\n",
    "#     ([xm0,xm0],[ym1,ym1],[zm0,zm1]),\n",
    "#     ([xm1,xm1],[ym1,ym1],[zm0,zm1]),\n",
    "# ]\n",
    "# for X, Y, Z in edges:\n",
    "#     ax.plot(X, Y, Z)\n",
    "\n",
    "# ax.set_xlabel(\"x [nm]\"); ax.set_ylabel(\"y [nm]\"); ax.set_zlabel(\"z [nm]\")\n",
    "# ax.set_title(\"DNA-punkter + simuleringboks\")\n",
    "# plt.tight_layout(); plt.show()\n"
   ]
  },
  {
   "cell_type": "markdown",
   "id": "e9692203",
   "metadata": {},
   "source": [
    "In this task, we created a 3D simulation box that fully contains the DNA molecule.\n",
    "The atomic coordinates in the file dna_coords.txt are given in Ångstrøm (Å), so following the book’s recommendations (Chapter 1), I converted everything to nanometers (nm), the standard unit used for molecular simulations (1 Å = 0.1 nm). To define the box, I first found the minimum and maximum coordinates of all atoms along x, y, and z. Then as suggested in the Monte Carlo chapter of the book (Chapter 8), I added a small margin (padding) around the molecule to ensure all points fit comfortably inside.\n",
    "\n",
    "\n",
    "The padding was chosen as the larger of 10% of the box span or 2 Å.\n",
    "This gives a slightly larger box that avoids edge effects but doesn’t waste too much empty space.\n",
    "The final box dimensions were converted to nanometers and printed, along with the box center.\n",
    "These values will be used in later Monte Carlo tasks for random sampling inside the box."
   ]
  },
  {
   "cell_type": "markdown",
   "id": "2361e14a",
   "metadata": {},
   "source": [
    "## Task 1"
   ]
  },
  {
   "cell_type": "markdown",
   "id": "b1d67044",
   "metadata": {},
   "source": []
  }
 ],
 "metadata": {
  "kernelspec": {
   "display_name": "base",
   "language": "python",
   "name": "python3"
  },
  "language_info": {
   "codemirror_mode": {
    "name": "ipython",
    "version": 3
   },
   "file_extension": ".py",
   "mimetype": "text/x-python",
   "name": "python",
   "nbconvert_exporter": "python",
   "pygments_lexer": "ipython3",
   "version": "3.11.7"
  }
 },
 "nbformat": 4,
 "nbformat_minor": 5
}
